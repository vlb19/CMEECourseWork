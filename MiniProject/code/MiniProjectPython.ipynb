{
 "cells": [
  {
   "cell_type": "markdown",
   "metadata": {},
   "source": [
    "# Functional Responses"
   ]
  },
  {
   "cell_type": "markdown",
   "metadata": {},
   "source": [
    "**How well do different mathematical models, e.g., based upon foraging theory (mechanistic) principles vs. phenomenological ones, fit to functional responses data across species?**"
   ]
  },
  {
   "cell_type": "markdown",
   "metadata": {},
   "source": [
    "Functional responses:\n",
    "  * Are the relationships between a consumer's biomass consumption rate and abundance of a target resource. \n",
    "\n",
    "  * Arise from fundamental biological and physical constraints on consumer-resource interactions.\n",
    "\n",
    "  * Determine the rate of biomass flow between species in ecosystems across the full scale of sizes. \n",
    "\n",
    "  * Play a key role in determining the stability of food webs that underpin ecosystems"
   ]
  },
  {
   "cell_type": "markdown",
   "metadata": {},
   "source": [
    "NB: Two main fields of interest are **N_TraitValue** (the number of resources consumed per consumer per unit time) and **ResDensity** (the resource abundance). \n",
    "\n",
    "Each ID value corresponds to one curve and one individual functional response curve"
   ]
  },
  {
   "cell_type": "code",
   "execution_count": 1,
   "metadata": {},
   "outputs": [],
   "source": [
    "# Some imports to explore the datasets\n",
    "import pandas as pd\n",
    "import scipy as sc\n",
    "import matplotlib.pylab as pl\n",
    "import seaborn as sns\n",
    "import numpy as np\n",
    "import csv"
   ]
  },
  {
   "cell_type": "markdown",
   "metadata": {},
   "source": [
    "## Getting Started"
   ]
  },
  {
   "cell_type": "code",
   "execution_count": 2,
   "metadata": {},
   "outputs": [
    {
     "name": "stdout",
     "output_type": "stream",
     "text": [
      "Loaded 68 columns.\n"
     ]
    }
   ],
   "source": [
    "data = pd.read_csv(\"../data/CRat.csv\")\n",
    "print(\"Loaded {} columns.\".format(len(data.columns.values)))"
   ]
  },
  {
   "cell_type": "code",
   "execution_count": 3,
   "metadata": {},
   "outputs": [
    {
     "name": "stdout",
     "output_type": "stream",
     "text": [
      "['ID' 'DataType' 'ORIGINAL_TraitID' 'ORIGINAL_TraitDefinition' 'TraitValue'\n",
      " 'TraitUnit' 'N_TraitValue' 'ConTaxa' 'ResTaxa' 'ConTaxaStage'\n",
      " 'ResTaxaStage' 'Con_ForagingMovement' 'Con_RESDetectionDimensionality'\n",
      " 'Res_ForagingMovement' 'Res_CONDetectionDimensionality' 'CON_MASS_value'\n",
      " 'RES_MASS_value' 'ResArenaSize_SI_UNIT' 'ResDensity_SI_VALUE'\n",
      " 'ResDensityUnit' 'ResDensity' 'ResArenaSize_SI_VALUE' 'ConTemp' 'ResTemp'\n",
      " 'ResReplaceRate' 'ResReplaceUnit' 'ResReplace' 'TraitSIValue'\n",
      " 'TraitSIUnit' 'N_TraitID' 'N_TraitConversion' 'N_CONVERTED' 'N_TraitUnit'\n",
      " 'Original_ErrorValue' 'Original_ErrorValueUnit' 'Replicates' 'ConTaxon'\n",
      " 'ConStage' 'ConCommon' 'Con_MovementDimensionality' 'Con_Thermy'\n",
      " 'Res_MovementDimensionality' 'ResTaxon' 'ResStage' 'ResCommon'\n",
      " 'Res_Thermy' 'Habitat' 'LabField' 'ObservationtimeSI'\n",
      " 'ObservationtimeSIUnits' 'ConStarvationTimeSI' 'ConStarvationTimeSIUnits'\n",
      " 'ConArenaSiz_VALUE' 'ConArenaSize_UNIT' 'ConDensity' 'ConDensityUnit'\n",
      " 'ConDensity_SI_VALUE' 'ConDensityConst' 'ConSizType' 'CON_ORIGINAL_value'\n",
      " 'CON_ORIGINAL_unit' 'Con_Siz_reference' 'ResSizType' 'RES_ORIGINAL_value'\n",
      " 'RES_ORIGINAL_unit' 'Res_Siz_reference' 'Citation' 'FigureTable']\n"
     ]
    }
   ],
   "source": [
    "print(data.columns.values)"
   ]
  },
  {
   "cell_type": "markdown",
   "metadata": {},
   "source": [
    "#### Making new data frame with only columns of interest for initial plots"
   ]
  },
  {
   "cell_type": "code",
   "execution_count": 4,
   "metadata": {},
   "outputs": [
    {
     "name": "stdout",
     "output_type": "stream",
     "text": [
      "         ID  ResDensity  N_TraitValue\n",
      "0     39835     10.0000      0.001206\n",
      "1     39835     10.0000      0.001065\n",
      "2     39835     10.0000      0.001206\n",
      "3     39835     25.0000      0.002562\n",
      "4     39835     25.0000      0.002411\n",
      "5     39835     25.0000      0.002009\n",
      "6     39835     25.0000      0.001587\n",
      "7     39835     50.0000      0.004330\n",
      "8     39836     19.9323      0.000525\n",
      "9     39836     40.1737      0.000950\n",
      "10    39836     60.0883      0.001321\n",
      "11    39836     80.3182      0.001647\n",
      "12    39836    100.2190      0.001900\n",
      "13    39836    120.1230      0.002181\n",
      "14    39836    140.3380      0.002371\n",
      "15    39836    160.2320      0.002570\n",
      "16    39836    180.4470      0.002760\n",
      "17    39836    200.3350      0.002904\n",
      "18    39837     19.9323      0.000255\n",
      "19    39837     40.1737      0.000483\n",
      "20    39837     60.0883      0.000702\n",
      "21    39837     80.3182      0.000894\n",
      "22    39837    100.2190      0.001076\n",
      "23    39837    120.1230      0.001241\n",
      "24    39837    140.3380      0.001387\n",
      "25    39837    160.2320      0.001514\n",
      "26    39837    180.4470      0.001642\n",
      "27    39837    180.4470      0.001779\n",
      "28    39838     19.9323      0.000130\n",
      "29    39838     40.1737      0.000231\n",
      "...     ...         ...           ...\n",
      "4477  40127     50.0000      0.000033\n",
      "4478  40127     50.0000      0.000036\n",
      "4479  40127    100.0000      0.000030\n",
      "4480  40127    100.0000      0.000020\n",
      "4481  40127    250.0000      0.000043\n",
      "4482  40127    250.0000      0.000033\n",
      "4483  40127    250.0000      0.000023\n",
      "4484  40127    500.0000      0.000069\n",
      "4485  40127    500.0000      0.000056\n",
      "4486  40127    500.0000      0.000013\n",
      "4487  40128     50.0000      0.125400\n",
      "4488  40128    100.0000      0.216200\n",
      "4489  40128    200.0000      0.236200\n",
      "4490  40128    400.0000      0.223000\n",
      "4491  40128    800.0000      0.446100\n",
      "4492  40128   1200.0000      0.396300\n",
      "4493  40128   1600.0000      0.475800\n",
      "4494  40129    250.0000      0.286800\n",
      "4495  40129    600.0000      0.466200\n",
      "4496  40129   1000.0000      0.769200\n",
      "4497  40129   1400.0000      0.930200\n",
      "4498  40129   1800.0000      1.378600\n",
      "4499  40129   2400.0000      1.715700\n",
      "4500  40129   3000.0000      1.663300\n",
      "4501  40129   4000.0000      2.019100\n",
      "4502  40130      3.8187      0.191000\n",
      "4503  40130     29.4310      0.945000\n",
      "4504  40130     71.7424      1.347000\n",
      "4505  40130    117.6371      1.522000\n",
      "4506  40130    172.1875      1.623000\n",
      "\n",
      "[4507 rows x 3 columns]\n"
     ]
    }
   ],
   "source": [
    "newdata = data[['ID','ResDensity','N_TraitValue']].copy()\n",
    "print(newdata)"
   ]
  },
  {
   "cell_type": "markdown",
   "metadata": {},
   "source": [
    "Check if there are any columns with NA values"
   ]
  },
  {
   "cell_type": "code",
   "execution_count": 5,
   "metadata": {},
   "outputs": [
    {
     "name": "stdout",
     "output_type": "stream",
     "text": [
      "Empty DataFrame\n",
      "Columns: [ID, ResDensity, N_TraitValue]\n",
      "Index: []\n"
     ]
    }
   ],
   "source": [
    "newdata2 = newdata[newdata.isna().any(axis=1)]\n",
    "print(newdata2)"
   ]
  },
  {
   "cell_type": "markdown",
   "metadata": {},
   "source": [
    "#### Removing IDs with less than 5 data points"
   ]
  },
  {
   "cell_type": "code",
   "execution_count": 0,
   "metadata": {},
   "outputs": [],
   "source": [
    "newdata.groupby('ID').ID.count() # grouping data points by ID number and storing a count of instances"
   ]
  },
  {
   "cell_type": "markdown",
   "metadata": {},
   "source": [
    "Setting a threshold number of repeats. If a ID has less than the threshold number of repeats, all of its data is replaced with null values"
   ]
  },
  {
   "cell_type": "code",
   "execution_count": 0,
   "metadata": {},
   "outputs": [],
   "source": [
    "threshold = 5\n",
    "ValueCounts = newdata['ID'].value_counts()\n",
    "toremove = ValueCounts[ValueCounts <= threshold].index\n",
    "newdata.replace(toremove, np.nan, inplace=True)"
   ]
  },
  {
   "cell_type": "code",
   "execution_count": 0,
   "metadata": {},
   "outputs": [],
   "source": [
    "newdata['ID'].value_counts() #Counting number of repeated IDs "
   ]
  },
  {
   "cell_type": "markdown",
   "metadata": {},
   "source": [
    "Remove all rows with NA data"
   ]
  },
  {
   "cell_type": "code",
   "execution_count": 0,
   "metadata": {},
   "outputs": [],
   "source": [
    "newdata_no_missing = newdata.dropna()"
   ]
  },
  {
   "cell_type": "code",
   "execution_count": 0,
   "metadata": {},
   "outputs": [],
   "source": [
    "newdata_no_missing.isnull().sum() #count number of NAs in data set to be sure"
   ]
  },
  {
   "cell_type": "markdown",
   "metadata": {},
   "source": [
    "#### Save modified data into a .csv file"
   ]
  },
  {
   "cell_type": "code",
   "execution_count": 0,
   "metadata": {},
   "outputs": [],
   "source": [
    "newdata_no_missing.to_csv('../data/FunResData.csv')"
   ]
  },
  {
   "cell_type": "markdown",
   "metadata": {},
   "source": [
    "## NLLS Fitting Script"
   ]
  },
  {
   "cell_type": "code",
   "execution_count": null,
   "metadata": {},
   "outputs": [],
   "source": []
  },
  {
   "cell_type": "code",
   "execution_count": 0,
   "metadata": {},
   "outputs": [],
   "source": [
    "print(newdata)"
   ]
  }
 ],
 "metadata": {
  "kernelspec": {
   "display_name": "Python 3",
   "language": "python",
   "name": "python3"
  },
  "language_info": {
   "codemirror_mode": {
    "name": "ipython",
    "version": 3
   },
   "file_extension": ".py",
   "mimetype": "text/x-python",
   "name": "python",
   "nbconvert_exporter": "python",
   "pygments_lexer": "ipython3",
   "version": "3.6.9"
  }
 },
 "nbformat": 4,
 "nbformat_minor": 2
}
