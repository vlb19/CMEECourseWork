{
 "cells": [
  {
   "cell_type": "markdown",
   "metadata": {},
   "source": [
    "# Functional Responses"
   ]
  },
  {
   "cell_type": "markdown",
   "metadata": {},
   "source": [
    "**How well do different mathematical models, e.g., based upon foraging theory (mechanistic) principles vs. phenomenological ones, fit to functional responses data across species?**"
   ]
  },
  {
   "cell_type": "markdown",
   "metadata": {},
   "source": [
    "Functional responses:\n",
    "  * Are the relationships between a consumer's biomass consumption rate and abundance of a target resource. \n",
    "\n",
    "  * Arise from fundamental biological and physical constraints on consumer-resource interactions.\n",
    "\n",
    "  * Determine the rate of biomass flow between species in ecosystems across the full scale of sizes. \n",
    "\n",
    "  * Play a key role in determining the stability of food webs that underpin ecosystems"
   ]
  },
  {
   "cell_type": "markdown",
   "metadata": {},
   "source": [
    "NB: Two main fields of interest are **N_TraitValue** (the number of resources consumed per consumer per unit time) and **ResDensity** (the resource abundance). \n",
    "\n",
    "Each ID value corresponds to one curve and one individual functional response curve"
   ]
  },
  {
   "source": [
    "# Some im\n",
    "ports to explore the datasets\n",
    "import pandas as pd\n",
    "import scipy as sc\n",
    "import matplotlib.pylab as pl\n",
    "import seaborn as sns\n",
    "import numpy as np\n",
    "import csv"
   ],
   "cell_type": "code",
   "outputs": [
    {
     "output_type": "error",
     "ename": "SyntaxError",
     "evalue": "invalid syntax (<ipython-input-26-863f17194166>, line 2)",
     "traceback": [
      "\u001b[0;36m  File \u001b[0;32m\"<ipython-input-26-863f17194166>\"\u001b[0;36m, line \u001b[0;32m2\u001b[0m\n\u001b[0;31m    ports to explore the datasets\u001b[0m\n\u001b[0m           ^\u001b[0m\n\u001b[0;31mSyntaxError\u001b[0m\u001b[0;31m:\u001b[0m invalid syntax\n"
     ]
    }
   ],
   "metadata": {},
   "execution_count": 26
  },
  {
   "cell_type": "markdown",
   "metadata": {},
   "source": [
    "## Getting Started"
   ]
  },
  {
   "source": [
    "data = pd.read_csv(\"../data/CRat.csv\")\n",
    "print(\"Loaded {} columns.\".format(len(data.columns.values)))"
   ],
   "cell_type": "code",
   "outputs": [],
   "metadata": {},
   "execution_count": 0
  },
  {
   "source": [
    "print(data.columns.values)"
   ],
   "cell_type": "code",
   "outputs": [],
   "metadata": {},
   "execution_count": 0
  },
  {
   "cell_type": "markdown",
   "metadata": {},
   "source": [
    "#### Making new data frame with only columns of interest for initial plots"
   ]
  },
  {
   "source": [
    "newdata = data[['ID','ResDensity','N_TraitValue']].copy()\n",
    "print(newdata)"
   ],
   "cell_type": "code",
   "outputs": [],
   "metadata": {},
   "execution_count": 0
  },
  {
   "cell_type": "markdown",
   "metadata": {},
   "source": [
    "Check if there are any columns with NA values"
   ]
  },
  {
   "source": [
    "newdata2 = newdata[newdata.isna().any(axis=1)]\n",
    "print(newdata2)"
   ],
   "cell_type": "code",
   "outputs": [],
   "metadata": {},
   "execution_count": 0
  },
  {
   "cell_type": "markdown",
   "metadata": {},
   "source": [
    "#### Removing IDs with less than 5 data points"
   ]
  },
  {
   "source": [
    "newdata.groupby('ID').ID.count() # grouping data points by ID number and storing a count of instances"
   ],
   "cell_type": "code",
   "outputs": [],
   "metadata": {},
   "execution_count": 0
  },
  {
   "cell_type": "markdown",
   "metadata": {},
   "source": [
    "Setting a threshold number of repeats. If a ID has less than the threshold number of repeats, all of its data is replaced with null values"
   ]
  },
  {
   "source": [
    "threshold = 5\n",
    "ValueCounts = newdata['ID'].value_counts()\n",
    "toremove = ValueCounts[ValueCounts <= threshold].index\n",
    "newdata.replace(toremove, np.nan, inplace=True)"
   ],
   "cell_type": "code",
   "outputs": [],
   "metadata": {},
   "execution_count": 0
  },
  {
   "source": [
    "newdata['ID'].value_counts() #Counting number of repeated IDs "
   ],
   "cell_type": "code",
   "outputs": [],
   "metadata": {},
   "execution_count": 0
  },
  {
   "cell_type": "markdown",
   "metadata": {},
   "source": [
    "Remove all rows with NA data"
   ]
  },
  {
   "source": [
    "newdata_no_missing = newdata.dropna()"
   ],
   "cell_type": "code",
   "outputs": [],
   "metadata": {},
   "execution_count": 0
  },
  {
   "source": [
    "newdata_no_missing.isnull().sum() #count number of NAs in data set to be sure"
   ],
   "cell_type": "code",
   "outputs": [],
   "metadata": {},
   "execution_count": 0
  },
  {
   "cell_type": "markdown",
   "metadata": {},
   "source": [
    "#### Save modified data into a .csv file"
   ]
  },
  {
   "source": [
    "newdata_no_missing.to_csv('../data/FunResData.csv')"
   ],
   "cell_type": "code",
   "outputs": [],
   "metadata": {},
   "execution_count": 0
  },
  {
   "cell_type": "markdown",
   "metadata": {},
   "source": [
    "## NLLS Fitting Script"
   ]
  },
  {
   "cell_type": "code",
   "execution_count": null,
   "metadata": {},
   "outputs": [],
   "source": []
  },
  {
   "source": [
    "print(newdata)"
   ],
   "cell_type": "code",
   "outputs": [],
   "metadata": {},
   "execution_count": 0
  }
 ],
 "metadata": {
  "kernelspec": {
   "display_name": "Python 3",
   "language": "python",
   "name": "python3"
  },
  "language_info": {
   "codemirror_mode": {
    "name": "ipython",
    "version": 3
   },
   "file_extension": ".py",
   "mimetype": "text/x-python",
   "name": "python",
   "nbconvert_exporter": "python",
   "pygments_lexer": "ipython3",
   "version": "3.6.8"
  }
 },
 "nbformat": 4,
 "nbformat_minor": 2
}